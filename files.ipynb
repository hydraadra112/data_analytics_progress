{
 "cells": [
  {
   "cell_type": "code",
   "execution_count": 1,
   "metadata": {},
   "outputs": [],
   "source": [
    "import os"
   ]
  },
  {
   "cell_type": "code",
   "execution_count": 2,
   "metadata": {},
   "outputs": [
    {
     "data": {
      "text/plain": [
       "'c:\\\\Users\\\\admin\\\\Desktop\\\\PROG\\\\DATA_ANALYTICS'"
      ]
     },
     "execution_count": 2,
     "metadata": {},
     "output_type": "execute_result"
    }
   ],
   "source": [
    "# Get current working directory\n",
    "os.getcwd()"
   ]
  },
  {
   "cell_type": "code",
   "execution_count": 3,
   "metadata": {},
   "outputs": [
    {
     "data": {
      "text/plain": [
       "['.git',\n",
       " 'assignment_2.ipynb',\n",
       " 'climate.txt',\n",
       " 'data',\n",
       " 'different_data_types.ipynb',\n",
       " 'exercise_1.ipynb',\n",
       " 'files.ipynb',\n",
       " 'markdow.ipynb',\n",
       " 'numpy_calculations.ipynb',\n",
       " 'performing_arithmetic_operations.ipynb',\n",
       " 'README.md']"
      ]
     },
     "execution_count": 3,
     "metadata": {},
     "output_type": "execute_result"
    }
   ],
   "source": [
    "# Every file and folder in this current directory\n",
    "os.listdir()"
   ]
  },
  {
   "cell_type": "code",
   "execution_count": 4,
   "metadata": {},
   "outputs": [
    {
     "data": {
      "text/plain": [
       "['admin', 'All Users', 'Default', 'Default User', 'desktop.ini', 'Public']"
      ]
     },
     "execution_count": 4,
     "metadata": {},
     "output_type": "execute_result"
    }
   ],
   "source": [
    "os.listdir('/Users')"
   ]
  },
  {
   "cell_type": "code",
   "execution_count": 5,
   "metadata": {},
   "outputs": [],
   "source": [
    "# Creates folder named data in current directory\n",
    "os.makedirs(\"./data\", exist_ok=True)"
   ]
  },
  {
   "cell_type": "code",
   "execution_count": 6,
   "metadata": {},
   "outputs": [
    {
     "data": {
      "text/plain": [
       "True"
      ]
     },
     "execution_count": 6,
     "metadata": {},
     "output_type": "execute_result"
    }
   ],
   "source": [
    "'data' in os.listdir()"
   ]
  },
  {
   "cell_type": "code",
   "execution_count": 7,
   "metadata": {},
   "outputs": [
    {
     "data": {
      "text/plain": [
       "['loans1.txt', 'loans2.txt', 'loans3.txt']"
      ]
     },
     "execution_count": 7,
     "metadata": {},
     "output_type": "execute_result"
    }
   ],
   "source": [
    "# check contents of data folder\n",
    "os.listdir('./data')\n",
    "\n",
    "# currently none"
   ]
  },
  {
   "cell_type": "code",
   "execution_count": 8,
   "metadata": {},
   "outputs": [],
   "source": [
    "import urllib.request\n",
    "\n",
    "url1 = 'https://gist.githubusercontent.com/aakashns/257f6e6c8719c17d0e498ea287d1a386/raw/7def9ef4234ddf0bc82f855ad67dac8b971852ef/loans1.txt'\n",
    "url2 = 'https://gist.githubusercontent.com/aakashns/257f6e6c8719c17d0e498ea287d1a386/raw/7def9ef4234ddf0bc82f855ad67dac8b971852ef/loans2.txt'\n",
    "url3 = 'https://gist.githubusercontent.com/aakashns/257f6e6c8719c17d0e498ea287d1a386/raw/7def9ef4234ddf0bc82f855ad67dac8b971852ef/loans3.txt'"
   ]
  },
  {
   "cell_type": "code",
   "execution_count": 9,
   "metadata": {},
   "outputs": [
    {
     "data": {
      "text/plain": [
       "('./data/loans3.txt', <http.client.HTTPMessage at 0x25df8626090>)"
      ]
     },
     "execution_count": 9,
     "metadata": {},
     "output_type": "execute_result"
    }
   ],
   "source": [
    "# link as first parameter, then save location for second parameter\n",
    "urllib.request.urlretrieve(url1, './data/loans1.txt')\n",
    "urllib.request.urlretrieve(url2, './data/loans2.txt')\n",
    "urllib.request.urlretrieve(url3, './data/loans3.txt')"
   ]
  },
  {
   "cell_type": "code",
   "execution_count": 10,
   "metadata": {},
   "outputs": [
    {
     "data": {
      "text/plain": [
       "['loans1.txt', 'loans2.txt', 'loans3.txt']"
      ]
     },
     "execution_count": 10,
     "metadata": {},
     "output_type": "execute_result"
    }
   ],
   "source": [
    "# Verify if those files actually exist\n",
    "os.listdir('./data')"
   ]
  },
  {
   "cell_type": "code",
   "execution_count": 41,
   "metadata": {},
   "outputs": [
    {
     "data": {
      "text/plain": [
       "['amount,duration,rate,down_payment',\n",
       " '100000,36,0.08,20000',\n",
       " '200000,12,0.1,',\n",
       " '628400,120,0.12,100000',\n",
       " '4637400,240,0.06,',\n",
       " '42900,90,0.07,8900',\n",
       " '916000,16,0.13,',\n",
       " '45230,48,0.08,4300',\n",
       " '991360,99,0.08,',\n",
       " '423000,27,0.09,47200']"
      ]
     },
     "execution_count": 41,
     "metadata": {},
     "output_type": "execute_result"
    }
   ],
   "source": [
    "file1 = open('./data/loans1.txt', mode='r')\n",
    "file1 = file1.readlines()\n",
    "\n",
    "for index, val in enumerate(file1):\n",
    "    file1[index] = val.strip()\n",
    "\n",
    "\n",
    "file1"
   ]
  },
  {
   "cell_type": "code",
   "execution_count": 40,
   "metadata": {},
   "outputs": [
    {
     "data": {
      "text/plain": [
       "['amount,duration,rate,down_payment',\n",
       " '828400,120,0.11,100000',\n",
       " '4633400,240,0.06,',\n",
       " '42900,90,0.08,8900',\n",
       " '983000,16,0.14,',\n",
       " '15230,48,0.07,4300']"
      ]
     },
     "execution_count": 40,
     "metadata": {},
     "output_type": "execute_result"
    }
   ],
   "source": [
    "with open('./data/loans2.txt', 'r') as file2:\n",
    "    file2 = file2.readlines()\n",
    "    \n",
    "    for index, val in enumerate(file2):\n",
    "        file2[index] = val.strip()\n",
    "    \n",
    "file2"
   ]
  },
  {
   "cell_type": "code",
   "execution_count": 75,
   "metadata": {},
   "outputs": [
    {
     "data": {
      "text/plain": [
       "['amount,duration,rate,down_payment',\n",
       " '45230,48,0.07,4300',\n",
       " '883000,16,0.14,',\n",
       " '100000,12,0.1,',\n",
       " '728400,120,0.12,100000',\n",
       " '3637400,240,0.06,',\n",
       " '82900,90,0.07,8900',\n",
       " '316000,16,0.13,',\n",
       " '15230,48,0.08,4300',\n",
       " '991360,99,0.08,',\n",
       " '323000,27,0.09,4720010000,36,0.08,20000',\n",
       " '528400,120,0.11,100000',\n",
       " '8633400,240,0.06,',\n",
       " '12900,90,0.08,8900']"
      ]
     },
     "execution_count": 75,
     "metadata": {},
     "output_type": "execute_result"
    }
   ],
   "source": [
    "with open('./data/loans3.txt', 'r') as file3:\n",
    "    file3 = file3.readlines()\n",
    "\n",
    "for index, val in enumerate(file3):\n",
    "    file3[index] = val.strip()\n",
    "    \n",
    "file3"
   ]
  },
  {
   "cell_type": "code",
   "execution_count": 82,
   "metadata": {},
   "outputs": [
    {
     "data": {
      "text/plain": [
       "'amount,duration,rate,down_payment'"
      ]
     },
     "execution_count": 82,
     "metadata": {},
     "output_type": "execute_result"
    }
   ],
   "source": [
    "headers = file3[0]\n",
    "headers\n"
   ]
  },
  {
   "cell_type": "code",
   "execution_count": 42,
   "metadata": {},
   "outputs": [],
   "source": [
    "def get_data(file_object): \n",
    "    loans = []\n",
    "    \n",
    "    file_object.pop(0)\n",
    "\n",
    "    for line in file_object:\n",
    "        row = line.split(',')\n",
    "        \n",
    "        if '' in row:\n",
    "            row[row.index('')] = float(0.0)\n",
    "        \n",
    "        loan_data = {\n",
    "                'amount': float(row[0]),  # Assuming 'amount' is a floating-point number\n",
    "                'duration': int(row[1]),  # Assuming 'duration' is an integer\n",
    "                'rate': float(row[2]),    # Assuming 'rate' is a floating-point number\n",
    "                'down_payment': float(row[3])  # Assuming 'down_payment' is a floating-point number\n",
    "            }\n",
    "            \n",
    "        loans.append(loan_data)\n",
    "    \n",
    "    return loans"
   ]
  },
  {
   "cell_type": "code",
   "execution_count": 44,
   "metadata": {},
   "outputs": [
    {
     "data": {
      "text/plain": [
       "[{'amount': 200000.0, 'duration': 12, 'rate': 0.1, 'down_payment': 0.0},\n",
       " {'amount': 628400.0, 'duration': 120, 'rate': 0.12, 'down_payment': 100000.0},\n",
       " {'amount': 4637400.0, 'duration': 240, 'rate': 0.06, 'down_payment': 0.0},\n",
       " {'amount': 42900.0, 'duration': 90, 'rate': 0.07, 'down_payment': 8900.0},\n",
       " {'amount': 916000.0, 'duration': 16, 'rate': 0.13, 'down_payment': 0.0},\n",
       " {'amount': 45230.0, 'duration': 48, 'rate': 0.08, 'down_payment': 4300.0},\n",
       " {'amount': 991360.0, 'duration': 99, 'rate': 0.08, 'down_payment': 0.0},\n",
       " {'amount': 423000.0, 'duration': 27, 'rate': 0.09, 'down_payment': 47200.0},\n",
       " {'amount': 4633400.0, 'duration': 240, 'rate': 0.06, 'down_payment': 0.0},\n",
       " {'amount': 42900.0, 'duration': 90, 'rate': 0.08, 'down_payment': 8900.0},\n",
       " {'amount': 983000.0, 'duration': 16, 'rate': 0.14, 'down_payment': 0.0},\n",
       " {'amount': 15230.0, 'duration': 48, 'rate': 0.07, 'down_payment': 4300.0},\n",
       " {'amount': 883000.0, 'duration': 16, 'rate': 0.14, 'down_payment': 0.0},\n",
       " {'amount': 100000.0, 'duration': 12, 'rate': 0.1, 'down_payment': 0.0},\n",
       " {'amount': 728400.0, 'duration': 120, 'rate': 0.12, 'down_payment': 100000.0},\n",
       " {'amount': 3637400.0, 'duration': 240, 'rate': 0.06, 'down_payment': 0.0},\n",
       " {'amount': 82900.0, 'duration': 90, 'rate': 0.07, 'down_payment': 8900.0},\n",
       " {'amount': 316000.0, 'duration': 16, 'rate': 0.13, 'down_payment': 0.0},\n",
       " {'amount': 15230.0, 'duration': 48, 'rate': 0.08, 'down_payment': 4300.0},\n",
       " {'amount': 991360.0, 'duration': 99, 'rate': 0.08, 'down_payment': 0.0},\n",
       " {'amount': 323000.0,\n",
       "  'duration': 27,\n",
       "  'rate': 0.09,\n",
       "  'down_payment': 4720010000.0},\n",
       " {'amount': 528400.0, 'duration': 120, 'rate': 0.11, 'down_payment': 100000.0},\n",
       " {'amount': 8633400.0, 'duration': 240, 'rate': 0.06, 'down_payment': 0.0},\n",
       " {'amount': 12900.0, 'duration': 90, 'rate': 0.08, 'down_payment': 8900.0}]"
      ]
     },
     "execution_count": 44,
     "metadata": {},
     "output_type": "execute_result"
    }
   ],
   "source": [
    "objs = [file1, file2, file3]\n",
    "\n",
    "loans = []\n",
    "for obj in objs:\n",
    "    loans.extend(get_data(obj))\n",
    "    \n",
    "loans"
   ]
  },
  {
   "cell_type": "code",
   "execution_count": 50,
   "metadata": {},
   "outputs": [],
   "source": [
    "import math\n",
    "\n",
    "def loan_emi(loan_data):\n",
    "    \"\"\"Calculates the equal montly installment (EMI) for a loan.\n",
    "    \n",
    "    Arguments:\n",
    "        amount - Total amount to be spent (loan + down payment)\n",
    "        duration - Duration of the loan (in months)\n",
    "        rate - Rate of interest (monthly)\n",
    "        down_payment (optional) - Optional intial payment (deducted from amount)\n",
    "    \"\"\"\n",
    "    \n",
    "    loan_data['rate'] /= 12\n",
    "    loan_amount = loan_data['amount'] - loan_data['down_payment']\n",
    "    try:\n",
    "        emi = loan_amount * loan_data['rate'] * ((1+loan_data['rate'])**loan_data['duration']) / (((1+loan_data['rate'])**loan_data['duration'])-1)\n",
    "    except ZeroDivisionError:\n",
    "        emi = loan_amount / loan_data['duration']\n",
    "    emi = math.ceil(emi)\n",
    "    \n",
    "    return emi"
   ]
  },
  {
   "cell_type": "code",
   "execution_count": 51,
   "metadata": {},
   "outputs": [
    {
     "data": {
      "text/plain": [
       "[{'amount': 200000.0,\n",
       "  'duration': 12,\n",
       "  'rate': 0.008333333333333333,\n",
       "  'down_payment': 0.0,\n",
       "  'emi': 17584},\n",
       " {'amount': 628400.0,\n",
       "  'duration': 120,\n",
       "  'rate': 0.01,\n",
       "  'down_payment': 100000.0,\n",
       "  'emi': 7582},\n",
       " {'amount': 4637400.0,\n",
       "  'duration': 240,\n",
       "  'rate': 0.005,\n",
       "  'down_payment': 0.0,\n",
       "  'emi': 33224},\n",
       " {'amount': 42900.0,\n",
       "  'duration': 90,\n",
       "  'rate': 0.005833333333333334,\n",
       "  'down_payment': 8900.0,\n",
       "  'emi': 487},\n",
       " {'amount': 916000.0,\n",
       "  'duration': 16,\n",
       "  'rate': 0.010833333333333334,\n",
       "  'down_payment': 0.0,\n",
       "  'emi': 62664},\n",
       " {'amount': 45230.0,\n",
       "  'duration': 48,\n",
       "  'rate': 0.006666666666666667,\n",
       "  'down_payment': 4300.0,\n",
       "  'emi': 1000},\n",
       " {'amount': 991360.0,\n",
       "  'duration': 99,\n",
       "  'rate': 0.006666666666666667,\n",
       "  'down_payment': 0.0,\n",
       "  'emi': 13712},\n",
       " {'amount': 423000.0,\n",
       "  'duration': 27,\n",
       "  'rate': 0.0075,\n",
       "  'down_payment': 47200.0,\n",
       "  'emi': 15428},\n",
       " {'amount': 4633400.0,\n",
       "  'duration': 240,\n",
       "  'rate': 0.005,\n",
       "  'down_payment': 0.0,\n",
       "  'emi': 33196},\n",
       " {'amount': 42900.0,\n",
       "  'duration': 90,\n",
       "  'rate': 0.006666666666666667,\n",
       "  'down_payment': 8900.0,\n",
       "  'emi': 504},\n",
       " {'amount': 983000.0,\n",
       "  'duration': 16,\n",
       "  'rate': 0.011666666666666667,\n",
       "  'down_payment': 0.0,\n",
       "  'emi': 67707},\n",
       " {'amount': 15230.0,\n",
       "  'duration': 48,\n",
       "  'rate': 0.005833333333333334,\n",
       "  'down_payment': 4300.0,\n",
       "  'emi': 262},\n",
       " {'amount': 883000.0,\n",
       "  'duration': 16,\n",
       "  'rate': 0.011666666666666667,\n",
       "  'down_payment': 0.0,\n",
       "  'emi': 60819},\n",
       " {'amount': 100000.0,\n",
       "  'duration': 12,\n",
       "  'rate': 0.008333333333333333,\n",
       "  'down_payment': 0.0,\n",
       "  'emi': 8792},\n",
       " {'amount': 728400.0,\n",
       "  'duration': 120,\n",
       "  'rate': 0.01,\n",
       "  'down_payment': 100000.0,\n",
       "  'emi': 9016},\n",
       " {'amount': 3637400.0,\n",
       "  'duration': 240,\n",
       "  'rate': 0.005,\n",
       "  'down_payment': 0.0,\n",
       "  'emi': 26060},\n",
       " {'amount': 82900.0,\n",
       "  'duration': 90,\n",
       "  'rate': 0.005833333333333334,\n",
       "  'down_payment': 8900.0,\n",
       "  'emi': 1060},\n",
       " {'amount': 316000.0,\n",
       "  'duration': 16,\n",
       "  'rate': 0.010833333333333334,\n",
       "  'down_payment': 0.0,\n",
       "  'emi': 21618},\n",
       " {'amount': 15230.0,\n",
       "  'duration': 48,\n",
       "  'rate': 0.006666666666666667,\n",
       "  'down_payment': 4300.0,\n",
       "  'emi': 267},\n",
       " {'amount': 991360.0,\n",
       "  'duration': 99,\n",
       "  'rate': 0.006666666666666667,\n",
       "  'down_payment': 0.0,\n",
       "  'emi': 13712},\n",
       " {'amount': 323000.0,\n",
       "  'duration': 27,\n",
       "  'rate': 0.0075,\n",
       "  'down_payment': 4720010000.0,\n",
       "  'emi': -193751447},\n",
       " {'amount': 528400.0,\n",
       "  'duration': 120,\n",
       "  'rate': 0.009166666666666667,\n",
       "  'down_payment': 100000.0,\n",
       "  'emi': 5902},\n",
       " {'amount': 8633400.0,\n",
       "  'duration': 240,\n",
       "  'rate': 0.005,\n",
       "  'down_payment': 0.0,\n",
       "  'emi': 61853},\n",
       " {'amount': 12900.0,\n",
       "  'duration': 90,\n",
       "  'rate': 0.006666666666666667,\n",
       "  'down_payment': 8900.0,\n",
       "  'emi': 60}]"
      ]
     },
     "execution_count": 51,
     "metadata": {},
     "output_type": "execute_result"
    }
   ],
   "source": [
    "for loan in loans:\n",
    "    loan['emi'] = loan_emi(loan)\n",
    "    \n",
    "loans\n"
   ]
  },
  {
   "cell_type": "code",
   "execution_count": 83,
   "metadata": {},
   "outputs": [],
   "source": [
    "with open('./data/total_emis.txt', 'w') as f:\n",
    "    f.write(f\"{headers}\\n\") \n",
    "    for loan in loans:\n",
    "        f.write(f\"{loan['amount']}, {loan['duration']}, {loan['rate']:2f}, {loan['down_payment']}, {loan['emi']}\\n\")"
   ]
  },
  {
   "cell_type": "code",
   "execution_count": 55,
   "metadata": {},
   "outputs": [
    {
     "data": {
      "text/plain": [
       "['loans1.txt', 'loans2.txt', 'loans3.txt', 'total_emis.txt']"
      ]
     },
     "execution_count": 55,
     "metadata": {},
     "output_type": "execute_result"
    }
   ],
   "source": [
    "os.listdir('./data')"
   ]
  },
  {
   "cell_type": "code",
   "execution_count": 45,
   "metadata": {},
   "outputs": [
    {
     "ename": "AttributeError",
     "evalue": "'list' object has no attribute 'close'",
     "output_type": "error",
     "traceback": [
      "\u001b[1;31m---------------------------------------------------------------------------\u001b[0m",
      "\u001b[1;31mAttributeError\u001b[0m                            Traceback (most recent call last)",
      "\u001b[1;32mc:\\Users\\admin\\Desktop\\PROG\\DATA_ANALYTICS\\files.ipynb Cell 17\u001b[0m line \u001b[0;36m2\n\u001b[0;32m      <a href='vscode-notebook-cell:/c%3A/Users/admin/Desktop/PROG/DATA_ANALYTICS/files.ipynb#X20sZmlsZQ%3D%3D?line=0'>1</a>\u001b[0m \u001b[39m# always close files!\u001b[39;00m\n\u001b[1;32m----> <a href='vscode-notebook-cell:/c%3A/Users/admin/Desktop/PROG/DATA_ANALYTICS/files.ipynb#X20sZmlsZQ%3D%3D?line=1'>2</a>\u001b[0m file1\u001b[39m.\u001b[39;49mclose()\n\u001b[0;32m      <a href='vscode-notebook-cell:/c%3A/Users/admin/Desktop/PROG/DATA_ANALYTICS/files.ipynb#X20sZmlsZQ%3D%3D?line=2'>3</a>\u001b[0m file2\u001b[39m.\u001b[39mclose()\n\u001b[0;32m      <a href='vscode-notebook-cell:/c%3A/Users/admin/Desktop/PROG/DATA_ANALYTICS/files.ipynb#X20sZmlsZQ%3D%3D?line=3'>4</a>\u001b[0m file3\u001b[39m.\u001b[39mclose()\n",
      "\u001b[1;31mAttributeError\u001b[0m: 'list' object has no attribute 'close'"
     ]
    }
   ],
   "source": [
    "# always close files!\n",
    "file1.close()\n",
    "file2.close()\n",
    "file3.close()"
   ]
  }
 ],
 "metadata": {
  "kernelspec": {
   "display_name": "Python 3",
   "language": "python",
   "name": "python3"
  },
  "language_info": {
   "codemirror_mode": {
    "name": "ipython",
    "version": 3
   },
   "file_extension": ".py",
   "mimetype": "text/x-python",
   "name": "python",
   "nbconvert_exporter": "python",
   "pygments_lexer": "ipython3",
   "version": "3.11.1"
  },
  "orig_nbformat": 4
 },
 "nbformat": 4,
 "nbformat_minor": 2
}
