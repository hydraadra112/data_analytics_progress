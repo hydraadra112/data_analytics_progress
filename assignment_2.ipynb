{
 "cells": [
  {
   "cell_type": "markdown",
   "metadata": {},
   "source": [
    "# Assignment 2 - Numpy Array Operations\n",
    "1. Pick 5 interesting Numpy array functions\n",
    "2. Give explanation and 3 examples for each function\n",
    "\n",
    "### Numpy\n",
    "> Numpy is a library package used in Python programming to operate various high level mathematical equations on arrays\n",
    "\n",
    "* np.mean()\n",
    "* np.std()\n",
    "* np.split()\n",
    "* np.vstack or np.hstack()\n",
    "* np.percentile()\n",
    "\n"
   ]
  },
  {
   "cell_type": "code",
   "execution_count": 3,
   "metadata": {},
   "outputs": [],
   "source": [
    "import numpy as np\n",
    "# List of functions explained \n",
    "function1 = np.mean  # Takes the mean value of an numpy array\n",
    "function2 = np.std # Takes the standard deviation of an numpy array\n",
    "function3 = np.split # Splits an array\n",
    "function4 = np.vstack or np.hstack # Takes the median value of an numpy array\n",
    "function5 = np.percentile # takes a number and returns the percent of it of the sum of an numpy array"
   ]
  },
  {
   "cell_type": "code",
   "execution_count": 4,
   "metadata": {},
   "outputs": [
    {
     "data": {
      "text/plain": [
       "array([[[ 4.52462377,  4.69729523,  4.86996669],\n",
       "        [ 5.04263814,  5.2153096 ,  5.38798106],\n",
       "        [ 5.56065252,  5.73332398,  5.90599544]],\n",
       "\n",
       "       [[ 6.07866689,  6.25133835,  6.42400981],\n",
       "        [ 6.59668127,  6.76935273,  6.94202419],\n",
       "        [ 7.11469564,  7.2873671 ,  7.46003856]],\n",
       "\n",
       "       [[ 7.63271002,  7.80538148,  7.97805294],\n",
       "        [ 8.15072439,  8.32339585,  8.49606731],\n",
       "        [ 8.66873877,  8.84141023,  9.01408169]],\n",
       "\n",
       "       [[ 9.18675314,  9.3594246 ,  9.53209606],\n",
       "        [ 9.70476752,  9.87743898, 10.05011044],\n",
       "        [10.22278189, 10.39545335, 10.56812481]]])"
      ]
     },
     "execution_count": 4,
     "metadata": {},
     "output_type": "execute_result"
    }
   ],
   "source": [
    "np_arr = np.linspace(4.52462377, 10.56812481, 36)\n",
    "np_arr = np_arr.reshape((4,3,3))\n",
    "np_arr"
   ]
  },
  {
   "cell_type": "code",
   "execution_count": 5,
   "metadata": {},
   "outputs": [
    {
     "data": {
      "text/plain": [
       "array([[[ 2.46874568,  3.68750209,  4.9062585 ],\n",
       "        [ 6.12501491,  7.34377132,  8.56252774],\n",
       "        [ 9.78128415, 11.00004056, 12.21879697]],\n",
       "\n",
       "       [[13.43755338, 14.65630979, 15.8750662 ],\n",
       "        [17.09382262, 18.31257903, 19.53133544],\n",
       "        [20.75009185, 21.96884826, 23.18760467]],\n",
       "\n",
       "       [[24.40636109, 25.6251175 , 26.84387391],\n",
       "        [28.06263032, 29.28138673, 30.50014314],\n",
       "        [31.71889955, 32.93765597, 34.15641238]]])"
      ]
     },
     "execution_count": 5,
     "metadata": {},
     "output_type": "execute_result"
    }
   ],
   "source": [
    "np_arr2 = np.linspace(2.4687456788, 34.156412377, 27)\n",
    "np_arr2 = np_arr2.reshape((3,3,3))\n",
    "np_arr2"
   ]
  },
  {
   "cell_type": "markdown",
   "metadata": {},
   "source": [
    "### Example 1 - np.mean()"
   ]
  },
  {
   "cell_type": "code",
   "execution_count": 6,
   "metadata": {},
   "outputs": [
    {
     "name": "stdout",
     "output_type": "stream",
     "text": [
      "Total Mean: 7.546374290000001\n",
      "Mean of sliced: 7.9780529357142855\n",
      "Mean of joined specific element vectors: 10.078968045980588\n"
     ]
    }
   ],
   "source": [
    "# This function basically just takes the mean value of an array\n",
    "# regardless its dimensions\n",
    "print(f\"Total Mean: {np.mean(np_arr)}\")\n",
    "\n",
    "# You can also get the mean value of a specific element\n",
    "# By using slicing or indexing\n",
    "print(f\"Mean of sliced: {np.mean(np_arr[1:, 0:2, 0:2])}\")\n",
    "\n",
    "# You can also get the mean of two different parts of the array\n",
    "print(f\"Mean of joined specific element vectors: {np.mean(np.vstack((np_arr[3, 0:2], np_arr2[0, 2])))}\")"
   ]
  },
  {
   "cell_type": "markdown",
   "metadata": {},
   "source": [
    "### Example 2 - np.std()"
   ]
  },
  {
   "cell_type": "code",
   "execution_count": 38,
   "metadata": {},
   "outputs": [
    {
     "name": "stdout",
     "output_type": "stream",
     "text": [
      "STD of arr1: 1.7937619940583245\n",
      "STD of arr1 and arr2: 10.83766604709401\n",
      "STD of Sliced 9.265889247340958\n"
     ]
    }
   ],
   "source": [
    "# Example 2, Standard Deviation\n",
    "# Similar to mean, you can get the standard deviation of a whole array\n",
    "print(f\"STD of arr1: {np.std(np_arr)}\")\n",
    "\n",
    "# You can also get the std of two arrays\n",
    "print(f\"STD of arr1 and arr2: {np.std(np_arr[0:3] + np_arr2)}\") # Sliced arr 1 because (4,3,3)\n",
    "\n",
    "# You can also get the STD of sliced arrays\n",
    "print(f\"STD of Sliced {np.std(np_arr[3, 0:2] + np_arr2[0:, 0:2, 0:])}\")"
   ]
  },
  {
   "cell_type": "markdown",
   "metadata": {},
   "source": [
    "### Example 3 - np.split()"
   ]
  },
  {
   "cell_type": "code",
   "execution_count": 78,
   "metadata": {},
   "outputs": [
    {
     "name": "stdout",
     "output_type": "stream",
     "text": [
      "1. Subarray = [ 0  1  2  3  4  5  6  7  8  9 10 11 12]\n",
      "2. Subarray = [13 14 15 16 17 18 19 20 21 22 23 24 25]\n",
      "\n",
      "top: [[[4.52462377 4.69729523 4.86996669]\n",
      "  [5.04263814 5.2153096  5.38798106]\n",
      "  [5.56065252 5.73332398 5.90599544]]\n",
      "\n",
      " [[6.07866689 6.25133835 6.42400981]\n",
      "  [6.59668127 6.76935273 6.94202419]\n",
      "  [7.11469564 7.2873671  7.46003856]]]\n",
      "\n",
      "mid: [[[ 7.63271002  7.80538148  7.97805294]\n",
      "  [ 8.15072439  8.32339585  8.49606731]\n",
      "  [ 8.66873877  8.84141023  9.01408169]]\n",
      "\n",
      " [[ 9.18675314  9.3594246   9.53209606]\n",
      "  [ 9.70476752  9.87743898 10.05011044]\n",
      "  [10.22278189 10.39545335 10.56812481]]]\n",
      "\n",
      "bottom: [[[ 2.46874568  3.68750209  4.9062585 ]\n",
      "  [ 6.12501491  7.34377132  8.56252774]\n",
      "  [ 9.78128415 11.00004056 12.21879697]]\n",
      "\n",
      " [[13.43755338 14.65630979 15.8750662 ]\n",
      "  [17.09382262 18.31257903 19.53133544]\n",
      "  [20.75009185 21.96884826 23.18760467]]]\n"
     ]
    }
   ],
   "source": [
    "# This function splits an array\n",
    "# Split an array into 4\n",
    "new_arr = np.arange(26)\n",
    "\n",
    "# Splitting a 1D Array into two\n",
    "sub1, sub2 = np.split(new_arr, 2)\n",
    "print(f\"1. Subarray = {sub1}\")\n",
    "print(f\"2. Subarray = {sub2}\")\n",
    "\n",
    "arr1_top, arr1_bottom = np.split(np_arr, 2)\n",
    "\n",
    "# adding np_arr's bottom to np_arr2's bottom\n",
    "mixed = np.concatenate((np_arr2, arr1_bottom[0:1]), axis=0)\n",
    "\n",
    "# Now adding mixed's top to the bottom of np_arr\n",
    "top, bottom = np.split(mixed, 2)\n",
    "\n",
    "mixed2 = np.concatenate((np_arr, top), axis = 0)\n",
    "\n",
    "# Splitting mixed into 3 parts\n",
    "top1, mid, bottom1 = np.split(mixed2, 3)\n",
    "\n",
    "print(f\"\\ntop: {top1}\")\n",
    "print(f\"\\nmid: {mid}\")\n",
    "print(f\"\\nbottom: {bottom1}\")\n"
   ]
  },
  {
   "cell_type": "markdown",
   "metadata": {},
   "source": [
    "### Example 4 - np.vstack() and np.hstack()"
   ]
  },
  {
   "cell_type": "code",
   "execution_count": 105,
   "metadata": {},
   "outputs": [],
   "source": [
    "# What np.vstack does is basically contatenates an array vertically, while np.hstack() concatenates an array horizontally\n",
    "mixed_arr = np.vstack((np_arr, np_arr2))\n",
    "mixed_arr2 = np.hstack((np_arr[0:3], np_arr2))\n"
   ]
  },
  {
   "cell_type": "code",
   "execution_count": 106,
   "metadata": {},
   "outputs": [
    {
     "name": "stdout",
     "output_type": "stream",
     "text": [
      "[[[ 4.52462377  4.69729523  4.86996669]\n",
      "  [ 5.04263814  5.2153096   5.38798106]\n",
      "  [ 5.56065252  5.73332398  5.90599544]]\n",
      "\n",
      " [[ 6.07866689  6.25133835  6.42400981]\n",
      "  [ 6.59668127  6.76935273  6.94202419]\n",
      "  [ 7.11469564  7.2873671   7.46003856]]\n",
      "\n",
      " [[ 7.63271002  7.80538148  7.97805294]\n",
      "  [ 8.15072439  8.32339585  8.49606731]\n",
      "  [ 8.66873877  8.84141023  9.01408169]]\n",
      "\n",
      " [[ 9.18675314  9.3594246   9.53209606]\n",
      "  [ 9.70476752  9.87743898 10.05011044]\n",
      "  [10.22278189 10.39545335 10.56812481]]\n",
      "\n",
      " [[ 2.46874568  3.68750209  4.9062585 ]\n",
      "  [ 6.12501491  7.34377132  8.56252774]\n",
      "  [ 9.78128415 11.00004056 12.21879697]]\n",
      "\n",
      " [[13.43755338 14.65630979 15.8750662 ]\n",
      "  [17.09382262 18.31257903 19.53133544]\n",
      "  [20.75009185 21.96884826 23.18760467]]\n",
      "\n",
      " [[24.40636109 25.6251175  26.84387391]\n",
      "  [28.06263032 29.28138673 30.50014314]\n",
      "  [31.71889955 32.93765597 34.15641238]]] End\n"
     ]
    }
   ],
   "source": [
    "\n",
    "# Notice the output has basically just stacked np_arr2 just below it\n",
    "print(f\"{mixed_arr} End\")\n"
   ]
  },
  {
   "cell_type": "code",
   "execution_count": 107,
   "metadata": {},
   "outputs": [
    {
     "name": "stdout",
     "output_type": "stream",
     "text": [
      "[[[ 4.52462377  4.69729523  4.86996669]\n",
      "  [ 5.04263814  5.2153096   5.38798106]\n",
      "  [ 5.56065252  5.73332398  5.90599544]\n",
      "  [ 2.46874568  3.68750209  4.9062585 ]\n",
      "  [ 6.12501491  7.34377132  8.56252774]\n",
      "  [ 9.78128415 11.00004056 12.21879697]]\n",
      "\n",
      " [[ 6.07866689  6.25133835  6.42400981]\n",
      "  [ 6.59668127  6.76935273  6.94202419]\n",
      "  [ 7.11469564  7.2873671   7.46003856]\n",
      "  [13.43755338 14.65630979 15.8750662 ]\n",
      "  [17.09382262 18.31257903 19.53133544]\n",
      "  [20.75009185 21.96884826 23.18760467]]\n",
      "\n",
      " [[ 7.63271002  7.80538148  7.97805294]\n",
      "  [ 8.15072439  8.32339585  8.49606731]\n",
      "  [ 8.66873877  8.84141023  9.01408169]\n",
      "  [24.40636109 25.6251175  26.84387391]\n",
      "  [28.06263032 29.28138673 30.50014314]\n",
      "  [31.71889955 32.93765597 34.15641238]]] End\n"
     ]
    }
   ],
   "source": [
    "# Notice how the 1D part is the same but the 2D part has more elements\n",
    "print(f\"{mixed_arr2} End\")"
   ]
  },
  {
   "cell_type": "markdown",
   "metadata": {},
   "source": [
    "### Example 5 - np.percentile()"
   ]
  },
  {
   "cell_type": "code",
   "execution_count": 141,
   "metadata": {},
   "outputs": [
    {
     "name": "stdout",
     "output_type": "stream",
     "text": [
      "25 percent of the sum of np_arr : 6.03549903\n",
      "48 percent of the sum of np_arr[0, 0:2] : 5.393761066326154\n",
      "78 percent of the product of np_arr[0,0] and np_arr2 : 128.02450388696778\n"
     ]
    }
   ],
   "source": [
    "# np.percentile takes two arguments, first is the array, and second is a number percentage that you are looking for the value\n",
    "print(f\"25 percent of the sum of np_arr : {np.percentile(np_arr, 25)}\") \n",
    "\n",
    "# You can also use slicing to get the percentage of that only specific elements\n",
    "print(f\"48 percent of the sum of np_arr[0, 0:2] : {np.percentile(np_arr2[0, 0:2] , 48)}\") \n",
    "\n",
    "# You can also get the percentage of the product of two vectors\n",
    "print(f\"78 percent of the product of np_arr[0,0] and np_arr2 : {np.percentile((np_arr[0, 0] * np_arr2) , 78)}\") "
   ]
  }
 ],
 "metadata": {
  "kernelspec": {
   "display_name": "Python 3",
   "language": "python",
   "name": "python3"
  },
  "language_info": {
   "codemirror_mode": {
    "name": "ipython",
    "version": 3
   },
   "file_extension": ".py",
   "mimetype": "text/x-python",
   "name": "python",
   "nbconvert_exporter": "python",
   "pygments_lexer": "ipython3",
   "version": "3.11.1"
  },
  "orig_nbformat": 4
 },
 "nbformat": 4,
 "nbformat_minor": 2
}
