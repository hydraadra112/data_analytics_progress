{
 "cells": [
  {
   "cell_type": "markdown",
   "metadata": {},
   "source": [
    "# Header 1\n",
    "## Header 2\n",
    "### Header 3"
   ]
  },
  {
   "cell_type": "markdown",
   "metadata": {},
   "source": [
    "To create a numbered or bullet list, simply start a line with '*' or '1.'.\n",
    "\n",
    "* Bullet 1\n",
    "* bullet 2\n",
    "\n",
    "1. num1\n",
    "2. num2"
   ]
  },
  {
   "cell_type": "markdown",
   "metadata": {},
   "source": [
    "to make **bold** text, use '**' in between the text"
   ]
  },
  {
   "cell_type": "markdown",
   "metadata": {},
   "source": [
    "Code Example\n",
    "```\n",
    "print(f\"Hello {world}!\")\n",
    "print(\"I am 19 yrs old\")\n",
    "\n",
    "\n",
    "```"
   ]
  },
  {
   "cell_type": "markdown",
   "metadata": {},
   "source": [
    "code block by using '>'\n",
    "> Lorem ipsum random text generator. Lorem ipsum random text generator. Lorem ipsum random text generator. Lorem ipsum random text generator. Lorem ipsum random text generator. Lorem ipsum random text generator. "
   ]
  }
 ],
 "metadata": {
  "kernelspec": {
   "display_name": "Python 3",
   "language": "python",
   "name": "python3"
  },
  "language_info": {
   "codemirror_mode": {
    "name": "ipython",
    "version": 3
   },
   "file_extension": ".py",
   "mimetype": "text/x-python",
   "name": "python",
   "nbconvert_exporter": "python",
   "pygments_lexer": "ipython3",
   "version": "3.11.1"
  },
  "orig_nbformat": 4
 },
 "nbformat": 4,
 "nbformat_minor": 2
}
